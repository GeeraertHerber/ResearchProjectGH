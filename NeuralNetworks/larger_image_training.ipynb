{
 "cells": [
  {
   "cell_type": "code",
   "execution_count": 1,
   "metadata": {},
   "outputs": [],
   "source": [
    "%matplotlib inline\n",
    "import os\n",
    "os.environ[\"KERAS_BACKEND\"] = \"tensorflow\"\n",
    "import numpy as np\n",
    "import pandas as pd\n",
    "import matplotlib.pyplot as plt\n",
    "import seaborn as sns\n",
    "\n",
    "\n",
    "from sklearn.model_selection import train_test_split\n",
    "from sklearn.metrics import classification_report\n",
    "from sklearn.metrics import confusion_matrix, accuracy_score\n",
    "from sklearn.preprocessing import OneHotEncoder, RobustScaler, MinMaxScaler\n",
    "from sklearn import preprocessing\n",
    "\n",
    "import matplotlib.image as mpimg\n",
    "from skimage.io import imread, imshow\n",
    "from skimage import data, color, io, filters, morphology,transform, exposure, feature, util\n",
    "from scipy import ndimage\n",
    "#import Tensorflow namespaces\n",
    "\n",
    "import tensorflow as tf\n",
    "from tensorflow.keras.models import Sequential\n",
    "from tensorflow.keras.layers import Activation\n",
    "from tensorflow.keras.optimizers import SGD\n",
    "from tensorflow.keras.layers import Dense, Dropout, Flatten, BatchNormalization\n",
    "from tensorflow.keras.layers import Conv2D, MaxPooling2D\n",
    "from tensorflow.keras import backend as K\n",
    "from tensorflow.keras.utils import to_categorical\n",
    "from tensorflow.keras.preprocessing import image\n",
    "\n",
    "from tensorflow.keras.applications.vgg19 import VGG19\n",
    "from tensorflow.keras.applications.vgg19 import preprocess_input, decode_predictions\n",
    "\n",
    "import pickle\n",
    "\n",
    "#physical_devices = tf.config.experimental.list_physical_devices('GPU')\n",
    "#tf.config.experimental.set_memory_growth(physical_devices[0], True)"
   ]
  },
  {
   "cell_type": "code",
   "execution_count": 2,
   "metadata": {},
   "outputs": [],
   "source": [
    "from os import walk, path\n",
    "from random import shuffle\n",
    "from skimage.io import imread, imshow\n",
    "from skimage import data, color, io, filters, morphology,transform, exposure, feature, util\n",
    "import matplotlib.pyplot as plt\n",
    "import numpy as np\n",
    "import glob, random"
   ]
  },
  {
   "cell_type": "code",
   "execution_count": 3,
   "metadata": {},
   "outputs": [],
   "source": [
    "def load_images(path):\n",
    "    \n",
    "    images = []\n",
    "    for image_file in os.listdir(path):\n",
    "\n",
    "        image = io.imread(os.path.join(path, image_file))\n",
    "        if image is not None:\n",
    "            images.append(image)\n",
    "            \n",
    "\n",
    "    return images\n",
    "\n",
    "cars = load_images('./vehicles')\n",
    "bikes = load_images('./bike')\n",
    "non_vehicles = load_images(\"./non-vehicles\")"
   ]
  },
  {
   "cell_type": "code",
   "execution_count": 8,
   "metadata": {},
   "outputs": [],
   "source": [
    "img_rows, img_cols = 64, 64\n",
    "car_img_res = []\n",
    "for i in range(0,len(cars)):\n",
    "        car_img_res.append(transform.resize(cars[i],(img_rows,img_cols,3), mode='constant'))\n"
   ]
  },
  {
   "cell_type": "code",
   "execution_count": 9,
   "metadata": {},
   "outputs": [],
   "source": [
    "\n",
    "bikes_img_res = []\n",
    "for i in range(0,len(bikes)):\n",
    "        bikes_img_res.append(transform.resize(bikes[i],(img_rows,img_cols,3), mode='constant'))"
   ]
  },
  {
   "cell_type": "code",
   "execution_count": 10,
   "metadata": {},
   "outputs": [
    {
     "name": "stdout",
     "output_type": "stream",
     "text": [
      "Length of the datasets:\n",
      "420, 365\n"
     ]
    }
   ],
   "source": [
    "print(\"Length of the datasets:\")\n",
    "print(f\"{len(car_img_res)}, {len(bikes_img_res)}\")"
   ]
  },
  {
   "cell_type": "code",
   "execution_count": 38,
   "metadata": {},
   "outputs": [],
   "source": [
    "Xs = car_img_res + bikes_img_res + non_vehicles[:len(car_img_res)*2]\n",
    "Xs = np.array(Xs)\n",
    "\n",
    "Xs = Xs.astype('float32')\n",
    "Xs /= 255"
   ]
  },
  {
   "cell_type": "code",
   "execution_count": 39,
   "metadata": {},
   "outputs": [
    {
     "name": "stdout",
     "output_type": "stream",
     "text": [
      "(1625, 64, 64, 3)\n"
     ]
    }
   ],
   "source": [
    "print(Xs.shape)"
   ]
  },
  {
   "cell_type": "code",
   "execution_count": 40,
   "metadata": {},
   "outputs": [],
   "source": [
    "# Generate labels 2 for bikes, 1 for vehicles and 0 for non-vehicles\n",
    "class_labels = np.array([2] * len(car_img_res)+ [1] * len(bikes_img_res) + [0] * (len(car_img_res)*2))"
   ]
  },
  {
   "cell_type": "code",
   "execution_count": 41,
   "metadata": {},
   "outputs": [
    {
     "name": "stdout",
     "output_type": "stream",
     "text": [
      "(1300, 64, 64, 3)\n",
      "(325, 64, 64, 3)\n",
      "(1300, 3)\n",
      "(325,)\n"
     ]
    }
   ],
   "source": [
    "# Devide the Xs into training and test sets\n",
    "X_train, X_test, y_train, y_test = train_test_split(Xs, class_labels, test_size=0.2, random_state=20)\n",
    "\n",
    "y_train = to_categorical(y_train)\n",
    "# y_test = to_categorical(y_test)\n",
    "\n",
    "print(X_train.shape)\n",
    "print(X_test.shape)\n",
    "print(y_train.shape)\n",
    "print(y_test.shape)"
   ]
  },
  {
   "cell_type": "code",
   "execution_count": 42,
   "metadata": {},
   "outputs": [],
   "source": [
    "adam = tf.keras.optimizers.Adam(learning_rate = 0.0001)\n",
    "\n",
    "# Neural network parameters\n",
    "#-----------------------------------------------\n",
    "#-----------------------------------------------\n",
    "batch_size = 64 #\n",
    "epochs = 50 # \n",
    "\n",
    "kernel_size=(3,3)\n",
    "#-----------------------------------------------\n",
    "#-----------------------------------------------\n",
    "num_classes = 3\n",
    "input_shape = ( X_train.shape[1], X_train.shape[2], X_train.shape[3])\n",
    "\n",
    "\n",
    "# Model\n",
    "model = Sequential()\n",
    "model.add(Conv2D(16, kernel_size=kernel_size, input_shape=input_shape)) \n",
    "model.add(BatchNormalization())\n",
    "\n",
    "model.add(Activation('relu'))\n",
    "model.add(MaxPooling2D(pool_size=(3, 3)))\n",
    "model.add(Conv2D(16, kernel_size=kernel_size)) \n",
    "\n",
    "model.add(BatchNormalization())\n",
    "model.add(Activation('relu'))\n",
    "model.add(MaxPooling2D(pool_size=(3, 3)))\n",
    "\n",
    "\n",
    "model.add(Flatten()) \n",
    "model.add(Dropout(0.4)) \n",
    "model.add(Dense(20, activation='relu')) \n",
    "\n",
    "model.add(Dropout(0.4))\n",
    "\n",
    "model.add(Dense(num_classes, activation='softmax'))\n",
    "\n",
    "model.compile(loss='categorical_crossentropy', optimizer=adam, metrics=['accuracy'])"
   ]
  },
  {
   "cell_type": "code",
   "execution_count": 43,
   "metadata": {},
   "outputs": [
    {
     "name": "stdout",
     "output_type": "stream",
     "text": [
      "Epoch 1/50\n",
      "17/17 [==============================] - 1s 31ms/step - loss: 1.0827 - accuracy: 0.4779 - val_loss: 1.0409 - val_accuracy: 0.5154\n",
      "Epoch 2/50\n",
      "17/17 [==============================] - 0s 13ms/step - loss: 0.7903 - accuracy: 0.5981 - val_loss: 1.0081 - val_accuracy: 0.5154\n",
      "Epoch 3/50\n",
      "17/17 [==============================] - 0s 12ms/step - loss: 0.6919 - accuracy: 0.6423 - val_loss: 0.9632 - val_accuracy: 0.5154\n",
      "Epoch 4/50\n",
      "17/17 [==============================] - 0s 12ms/step - loss: 0.6090 - accuracy: 0.6962 - val_loss: 0.9067 - val_accuracy: 0.5154\n",
      "Epoch 5/50\n",
      "17/17 [==============================] - 0s 12ms/step - loss: 0.5705 - accuracy: 0.6990 - val_loss: 0.8517 - val_accuracy: 0.5154\n",
      "Epoch 6/50\n",
      "17/17 [==============================] - 0s 13ms/step - loss: 0.5520 - accuracy: 0.7221 - val_loss: 0.7941 - val_accuracy: 0.5154\n",
      "Epoch 7/50\n",
      "17/17 [==============================] - 0s 12ms/step - loss: 0.5179 - accuracy: 0.7288 - val_loss: 0.7359 - val_accuracy: 0.5154\n",
      "Epoch 8/50\n",
      "17/17 [==============================] - 0s 12ms/step - loss: 0.4884 - accuracy: 0.7481 - val_loss: 0.6743 - val_accuracy: 0.5154\n",
      "Epoch 9/50\n",
      "17/17 [==============================] - 0s 11ms/step - loss: 0.4575 - accuracy: 0.7577 - val_loss: 0.6167 - val_accuracy: 0.8038\n",
      "Epoch 10/50\n",
      "17/17 [==============================] - 0s 15ms/step - loss: 0.4540 - accuracy: 0.7712 - val_loss: 0.5637 - val_accuracy: 0.8038\n",
      "Epoch 11/50\n",
      "17/17 [==============================] - 0s 12ms/step - loss: 0.4490 - accuracy: 0.7442 - val_loss: 0.5214 - val_accuracy: 0.8038\n",
      "Epoch 12/50\n",
      "17/17 [==============================] - 0s 12ms/step - loss: 0.4324 - accuracy: 0.7587 - val_loss: 0.4870 - val_accuracy: 0.8038\n",
      "Epoch 13/50\n",
      "17/17 [==============================] - 0s 12ms/step - loss: 0.4198 - accuracy: 0.7798 - val_loss: 0.4588 - val_accuracy: 0.8038\n",
      "Epoch 14/50\n",
      "17/17 [==============================] - 0s 12ms/step - loss: 0.4189 - accuracy: 0.7654 - val_loss: 0.4356 - val_accuracy: 0.8038\n",
      "Epoch 15/50\n",
      "17/17 [==============================] - 0s 13ms/step - loss: 0.4129 - accuracy: 0.7519 - val_loss: 0.4192 - val_accuracy: 0.8038\n",
      "Epoch 16/50\n",
      "17/17 [==============================] - 0s 12ms/step - loss: 0.4227 - accuracy: 0.7442 - val_loss: 0.4077 - val_accuracy: 0.8038\n",
      "Epoch 17/50\n",
      "17/17 [==============================] - 0s 12ms/step - loss: 0.4002 - accuracy: 0.7654 - val_loss: 0.3977 - val_accuracy: 0.8038\n",
      "Epoch 18/50\n",
      "17/17 [==============================] - 0s 12ms/step - loss: 0.4008 - accuracy: 0.7625 - val_loss: 0.3879 - val_accuracy: 0.8038\n",
      "Epoch 19/50\n",
      "17/17 [==============================] - 0s 11ms/step - loss: 0.4048 - accuracy: 0.7452 - val_loss: 0.3804 - val_accuracy: 0.8038\n",
      "Epoch 20/50\n",
      "17/17 [==============================] - 0s 11ms/step - loss: 0.4042 - accuracy: 0.7615 - val_loss: 0.3748 - val_accuracy: 0.8038\n",
      "Epoch 21/50\n",
      "17/17 [==============================] - 0s 12ms/step - loss: 0.4084 - accuracy: 0.7404 - val_loss: 0.3721 - val_accuracy: 0.8038\n",
      "Epoch 22/50\n",
      "17/17 [==============================] - 0s 11ms/step - loss: 0.3979 - accuracy: 0.7500 - val_loss: 0.3696 - val_accuracy: 0.8038\n",
      "Epoch 23/50\n",
      "17/17 [==============================] - 0s 11ms/step - loss: 0.3866 - accuracy: 0.7625 - val_loss: 0.3647 - val_accuracy: 0.8038\n",
      "Epoch 24/50\n",
      "17/17 [==============================] - 0s 12ms/step - loss: 0.3917 - accuracy: 0.7721 - val_loss: 0.3598 - val_accuracy: 0.8038\n",
      "Epoch 25/50\n",
      "17/17 [==============================] - 0s 11ms/step - loss: 0.3895 - accuracy: 0.7625 - val_loss: 0.3593 - val_accuracy: 0.8038\n",
      "Epoch 26/50\n",
      "17/17 [==============================] - 0s 12ms/step - loss: 0.3963 - accuracy: 0.7452 - val_loss: 0.3566 - val_accuracy: 0.8038\n",
      "Epoch 27/50\n",
      "17/17 [==============================] - 0s 11ms/step - loss: 0.3873 - accuracy: 0.7481 - val_loss: 0.3543 - val_accuracy: 0.8038\n",
      "Epoch 28/50\n",
      "17/17 [==============================] - 0s 11ms/step - loss: 0.3857 - accuracy: 0.7606 - val_loss: 0.3540 - val_accuracy: 0.8038\n",
      "Epoch 29/50\n",
      "17/17 [==============================] - 0s 11ms/step - loss: 0.3922 - accuracy: 0.7606 - val_loss: 0.3512 - val_accuracy: 0.8038\n",
      "Epoch 30/50\n",
      "17/17 [==============================] - 0s 11ms/step - loss: 0.3752 - accuracy: 0.7625 - val_loss: 0.3485 - val_accuracy: 0.8038\n",
      "Epoch 31/50\n",
      "17/17 [==============================] - 0s 11ms/step - loss: 0.3766 - accuracy: 0.7779 - val_loss: 0.3479 - val_accuracy: 0.8038\n",
      "Epoch 32/50\n",
      "17/17 [==============================] - 0s 12ms/step - loss: 0.3880 - accuracy: 0.7654 - val_loss: 0.3456 - val_accuracy: 0.8038\n",
      "Epoch 33/50\n",
      "17/17 [==============================] - 0s 11ms/step - loss: 0.3760 - accuracy: 0.7673 - val_loss: 0.3431 - val_accuracy: 0.8038\n",
      "Epoch 34/50\n",
      "17/17 [==============================] - 0s 11ms/step - loss: 0.3815 - accuracy: 0.7702 - val_loss: 0.3418 - val_accuracy: 0.8038\n",
      "Epoch 35/50\n",
      "17/17 [==============================] - 0s 11ms/step - loss: 0.3801 - accuracy: 0.7615 - val_loss: 0.3417 - val_accuracy: 0.8038\n",
      "Epoch 36/50\n",
      "17/17 [==============================] - 0s 11ms/step - loss: 0.3815 - accuracy: 0.7596 - val_loss: 0.3421 - val_accuracy: 0.8038\n",
      "Epoch 37/50\n",
      "13/17 [=====================>........] - ETA: 0s - loss: 0.3948 - accuracy: 0.7332Restoring model weights from the end of the best epoch: 34.\n",
      "17/17 [==============================] - 0s 12ms/step - loss: 0.3912 - accuracy: 0.7423 - val_loss: 0.3423 - val_accuracy: 0.8038\n",
      "Epoch 00037: early stopping\n"
     ]
    }
   ],
   "source": [
    "# Trainen van het CNN\n",
    "from tensorflow.keras.callbacks import EarlyStopping\n",
    "\n",
    "es = EarlyStopping(monitor='val_loss', mode='min', verbose=1, min_delta=0.001, patience=3, restore_best_weights=True)\n",
    "\n",
    "history = model.fit(X_train, y_train, batch_size=batch_size, epochs=epochs, validation_split=0.2, verbose=1, callbacks=[es])\n"
   ]
  },
  {
   "cell_type": "code",
   "execution_count": 44,
   "metadata": {},
   "outputs": [
    {
     "name": "stdout",
     "output_type": "stream",
     "text": [
      "              precision    recall  f1-score   support\n",
      "\n",
      "           0       1.00      1.00      1.00       168\n",
      "           1       0.00      0.00      0.00        74\n",
      "           2       0.53      1.00      0.69        83\n",
      "\n",
      "    accuracy                           0.77       325\n",
      "   macro avg       0.51      0.67      0.56       325\n",
      "weighted avg       0.65      0.77      0.69       325\n",
      "\n",
      "[[168   0   0]\n",
      " [  0   0  74]\n",
      " [  0   0  83]]\n",
      "77.23076923076924\n"
     ]
    },
    {
     "name": "stderr",
     "output_type": "stream",
     "text": [
      "d:\\Howest 21-22\\ResearchProjectGH\\NeuralNetworks\\rpvenv\\lib\\site-packages\\sklearn\\metrics\\_classification.py:1318: UndefinedMetricWarning: Precision and F-score are ill-defined and being set to 0.0 in labels with no predicted samples. Use `zero_division` parameter to control this behavior.\n",
      "  _warn_prf(average, modifier, msg_start, len(result))\n",
      "d:\\Howest 21-22\\ResearchProjectGH\\NeuralNetworks\\rpvenv\\lib\\site-packages\\sklearn\\metrics\\_classification.py:1318: UndefinedMetricWarning: Precision and F-score are ill-defined and being set to 0.0 in labels with no predicted samples. Use `zero_division` parameter to control this behavior.\n",
      "  _warn_prf(average, modifier, msg_start, len(result))\n",
      "d:\\Howest 21-22\\ResearchProjectGH\\NeuralNetworks\\rpvenv\\lib\\site-packages\\sklearn\\metrics\\_classification.py:1318: UndefinedMetricWarning: Precision and F-score are ill-defined and being set to 0.0 in labels with no predicted samples. Use `zero_division` parameter to control this behavior.\n",
      "  _warn_prf(average, modifier, msg_start, len(result))\n"
     ]
    }
   ],
   "source": [
    "y_predicted = np.argmax(model.predict(X_test),axis=-1)\n",
    "\n",
    "print(classification_report(y_test, y_predicted))\n",
    "\n",
    "cf = confusion_matrix(y_test, y_predicted)\n",
    "\n",
    "print(cf)\n",
    "print(accuracy_score(y_test, y_predicted) * 100) "
   ]
  },
  {
   "cell_type": "code",
   "execution_count": null,
   "metadata": {},
   "outputs": [],
   "source": []
  }
 ],
 "metadata": {
  "interpreter": {
   "hash": "e356171e11f8c4ac0e22d01efaef5f40f9206ec5ff74487515b987ae4ee25eb9"
  },
  "kernelspec": {
   "display_name": "Python 3.9.4 64-bit ('rpvenv': venv)",
   "language": "python",
   "name": "python3"
  },
  "language_info": {
   "codemirror_mode": {
    "name": "ipython",
    "version": 3
   },
   "file_extension": ".py",
   "mimetype": "text/x-python",
   "name": "python",
   "nbconvert_exporter": "python",
   "pygments_lexer": "ipython3",
   "version": "3.9.4"
  },
  "orig_nbformat": 4
 },
 "nbformat": 4,
 "nbformat_minor": 2
}
