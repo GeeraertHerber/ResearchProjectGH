{
 "cells": [
  {
   "cell_type": "code",
   "execution_count": 1,
   "metadata": {},
   "outputs": [],
   "source": [
    "%matplotlib inline\n",
    "import os\n",
    "os.environ[\"KERAS_BACKEND\"] = \"tensorflow\"\n",
    "import numpy as np\n",
    "import pandas as pd\n",
    "import matplotlib.pyplot as plt\n",
    "import seaborn as sns\n",
    "\n",
    "\n",
    "from sklearn.model_selection import train_test_split\n",
    "from sklearn.metrics import classification_report\n",
    "from sklearn.metrics import confusion_matrix, accuracy_score\n",
    "from sklearn.preprocessing import OneHotEncoder, RobustScaler, MinMaxScaler\n",
    "from sklearn import preprocessing\n",
    "\n",
    "import matplotlib.image as mpimg\n",
    "from skimage.io import imread, imshow\n",
    "from skimage import data, color, io, filters, morphology,transform, exposure, feature, util\n",
    "from scipy import ndimage\n",
    "#import Tensorflow namespaces\n",
    "\n",
    "import tensorflow as tf\n",
    "from tensorflow.keras.models import Sequential\n",
    "from tensorflow.keras.layers import Activation\n",
    "from tensorflow.keras.optimizers import SGD\n",
    "from tensorflow.keras.layers import Dense, Dropout, Flatten, BatchNormalization\n",
    "from tensorflow.keras.layers import Conv2D, MaxPooling2D\n",
    "from tensorflow.keras import backend as K\n",
    "from tensorflow.keras.utils import to_categorical\n",
    "from tensorflow.keras.preprocessing import image\n",
    "\n",
    "from tensorflow.keras.applications.vgg19 import VGG19\n",
    "from tensorflow.keras.applications.vgg19 import preprocess_input, decode_predictions\n",
    "\n",
    "import pickle\n",
    "\n",
    "#physical_devices = tf.config.experimental.list_physical_devices('GPU')\n",
    "#tf.config.experimental.set_memory_growth(physical_devices[0], True)"
   ]
  },
  {
   "cell_type": "code",
   "execution_count": 2,
   "metadata": {},
   "outputs": [],
   "source": [
    "from os import walk, path\n",
    "from random import shuffle\n",
    "from skimage.io import imread, imshow\n",
    "from skimage import data, color, io, filters, morphology,transform, exposure, feature, util\n",
    "import matplotlib.pyplot as plt\n",
    "import numpy as np\n",
    "import glob, random"
   ]
  },
  {
   "cell_type": "code",
   "execution_count": 3,
   "metadata": {},
   "outputs": [],
   "source": [
    "def load_images(path):\n",
    "    \n",
    "    images = []\n",
    "    for image_file in os.listdir(path):\n",
    "\n",
    "        image = io.imread(os.path.join(path, image_file))\n",
    "        if image is not None:\n",
    "            images.append(image)\n",
    "            \n",
    "\n",
    "    return images\n",
    "\n",
    "vehicles = load_images('./vehicles')\n",
    "non_vehicles = load_images('./non-vehicles')"
   ]
  },
  {
   "cell_type": "code",
   "execution_count": 4,
   "metadata": {},
   "outputs": [],
   "source": [
    "Xs = vehicles + non_vehicles\n",
    "Xs = np.array(Xs)\n",
    "\n",
    "Xs = Xs.astype('float32')\n",
    "Xs /= 255"
   ]
  },
  {
   "cell_type": "code",
   "execution_count": 5,
   "metadata": {},
   "outputs": [],
   "source": [
    "# Generate labels 1 for vehicles and 0 for non-vehicles\n",
    "class_labels = np.array([1] * len(vehicles) + [0] * len(non_vehicles))"
   ]
  },
  {
   "cell_type": "code",
   "execution_count": 12,
   "metadata": {},
   "outputs": [
    {
     "name": "stdout",
     "output_type": "stream",
     "text": [
      "(14208, 64, 64, 3)\n",
      "(3552, 64, 64, 3)\n",
      "(14208, 2)\n",
      "(3552,)\n"
     ]
    }
   ],
   "source": [
    "# Devide the Xs into training and test sets\n",
    "X_train, X_test, y_train, y_test = train_test_split(Xs, class_labels, test_size=0.2, random_state=20)\n",
    "\n",
    "y_train = to_categorical(y_train)\n",
    "# y_test = to_categorical(y_test)\n",
    "\n",
    "print(X_train.shape)\n",
    "print(X_test.shape)\n",
    "print(y_train.shape)\n",
    "print(y_test.shape)"
   ]
  },
  {
   "cell_type": "code",
   "execution_count": 14,
   "metadata": {},
   "outputs": [],
   "source": [
    "adam = tf.keras.optimizers.Adam(learning_rate = 0.0001)\n",
    "\n",
    "# Neural network parameters\n",
    "#-----------------------------------------------\n",
    "#-----------------------------------------------\n",
    "batch_size = 64 #\n",
    "epochs = 50 # \n",
    "\n",
    "kernel_size=(3,3)\n",
    "#-----------------------------------------------\n",
    "#-----------------------------------------------\n",
    "num_classes = 2\n",
    "input_shape = ( X_train.shape[1], X_train.shape[2], X_train.shape[3])\n",
    "\n",
    "\n",
    "# Model\n",
    "model = Sequential()\n",
    "model.add(Conv2D(16, kernel_size=kernel_size, input_shape=input_shape)) \n",
    "model.add(BatchNormalization())\n",
    "\n",
    "model.add(Activation('relu'))\n",
    "model.add(MaxPooling2D(pool_size=(3, 3)))\n",
    "model.add(Conv2D(16, kernel_size=kernel_size)) \n",
    "\n",
    "model.add(BatchNormalization())\n",
    "model.add(Activation('relu'))\n",
    "model.add(MaxPooling2D(pool_size=(3, 3)))\n",
    "\n",
    "\n",
    "model.add(Flatten()) \n",
    "model.add(Dropout(0.4)) \n",
    "model.add(Dense(20, activation='relu')) \n",
    "\n",
    "model.add(Dropout(0.4))\n",
    "\n",
    "model.add(Dense(num_classes, activation='softmax'))\n",
    "\n",
    "model.compile(loss='categorical_crossentropy', optimizer=adam, metrics=['accuracy'])"
   ]
  },
  {
   "cell_type": "code",
   "execution_count": 15,
   "metadata": {},
   "outputs": [
    {
     "name": "stdout",
     "output_type": "stream",
     "text": [
      "Epoch 1/50\n",
      "178/178 [==============================] - 3s 12ms/step - loss: 0.7125 - accuracy: 0.6846 - val_loss: 0.7196 - val_accuracy: 0.5028\n",
      "Epoch 2/50\n",
      "178/178 [==============================] - 2s 10ms/step - loss: 0.4484 - accuracy: 0.8012 - val_loss: 0.6060 - val_accuracy: 0.6562\n",
      "Epoch 3/50\n",
      "178/178 [==============================] - 2s 10ms/step - loss: 0.3615 - accuracy: 0.8374 - val_loss: 0.3353 - val_accuracy: 0.8441\n",
      "Epoch 4/50\n",
      "178/178 [==============================] - 2s 11ms/step - loss: 0.3066 - accuracy: 0.8674 - val_loss: 0.2354 - val_accuracy: 0.9032\n",
      "Epoch 5/50\n",
      "178/178 [==============================] - 2s 11ms/step - loss: 0.2755 - accuracy: 0.8850 - val_loss: 0.2057 - val_accuracy: 0.9152\n",
      "Epoch 6/50\n",
      "178/178 [==============================] - 3s 18ms/step - loss: 0.2469 - accuracy: 0.8971 - val_loss: 0.1762 - val_accuracy: 0.9328\n",
      "Epoch 7/50\n",
      "178/178 [==============================] - 2s 11ms/step - loss: 0.2178 - accuracy: 0.9111 - val_loss: 0.1545 - val_accuracy: 0.9430\n",
      "Epoch 8/50\n",
      "178/178 [==============================] - 2s 11ms/step - loss: 0.1839 - accuracy: 0.9269 - val_loss: 0.1478 - val_accuracy: 0.9409\n",
      "Epoch 9/50\n",
      "178/178 [==============================] - 2s 11ms/step - loss: 0.1689 - accuracy: 0.9361 - val_loss: 0.1245 - val_accuracy: 0.9521\n",
      "Epoch 10/50\n",
      "178/178 [==============================] - 2s 11ms/step - loss: 0.1510 - accuracy: 0.9409 - val_loss: 0.1182 - val_accuracy: 0.9539\n",
      "Epoch 11/50\n",
      "178/178 [==============================] - 2s 10ms/step - loss: 0.1354 - accuracy: 0.9525 - val_loss: 0.0910 - val_accuracy: 0.9683\n",
      "Epoch 12/50\n",
      "178/178 [==============================] - 2s 10ms/step - loss: 0.1268 - accuracy: 0.9520 - val_loss: 0.0864 - val_accuracy: 0.9697\n",
      "Epoch 13/50\n",
      "178/178 [==============================] - 2s 11ms/step - loss: 0.1111 - accuracy: 0.9573 - val_loss: 0.0763 - val_accuracy: 0.9726\n",
      "Epoch 14/50\n",
      "178/178 [==============================] - 2s 11ms/step - loss: 0.1075 - accuracy: 0.9619 - val_loss: 0.0877 - val_accuracy: 0.9683\n",
      "Epoch 15/50\n",
      "178/178 [==============================] - 2s 11ms/step - loss: 0.1091 - accuracy: 0.9608 - val_loss: 0.0627 - val_accuracy: 0.9785\n",
      "Epoch 16/50\n",
      "178/178 [==============================] - 2s 10ms/step - loss: 0.0921 - accuracy: 0.9670 - val_loss: 0.0679 - val_accuracy: 0.9771\n",
      "Epoch 17/50\n",
      "178/178 [==============================] - 2s 11ms/step - loss: 0.0888 - accuracy: 0.9667 - val_loss: 0.0681 - val_accuracy: 0.9778\n",
      "Epoch 18/50\n",
      "178/178 [==============================] - 2s 11ms/step - loss: 0.0811 - accuracy: 0.9713 - val_loss: 0.0546 - val_accuracy: 0.9828\n",
      "Epoch 19/50\n",
      "178/178 [==============================] - 2s 11ms/step - loss: 0.0778 - accuracy: 0.9716 - val_loss: 0.0626 - val_accuracy: 0.9789\n",
      "Epoch 20/50\n",
      "178/178 [==============================] - 2s 11ms/step - loss: 0.0744 - accuracy: 0.9747 - val_loss: 0.0447 - val_accuracy: 0.9842\n",
      "Epoch 21/50\n",
      "178/178 [==============================] - 2s 12ms/step - loss: 0.0728 - accuracy: 0.9738 - val_loss: 0.0433 - val_accuracy: 0.9845\n",
      "Epoch 22/50\n",
      "178/178 [==============================] - 2s 12ms/step - loss: 0.0688 - accuracy: 0.9749 - val_loss: 0.0417 - val_accuracy: 0.9866\n",
      "Epoch 23/50\n",
      "178/178 [==============================] - 3s 18ms/step - loss: 0.0640 - accuracy: 0.9767 - val_loss: 0.0498 - val_accuracy: 0.9821\n",
      "Epoch 24/50\n",
      "178/178 [==============================] - 2s 13ms/step - loss: 0.0610 - accuracy: 0.9793 - val_loss: 0.0376 - val_accuracy: 0.9866\n",
      "Epoch 25/50\n",
      "178/178 [==============================] - 2s 12ms/step - loss: 0.0629 - accuracy: 0.9800 - val_loss: 0.0395 - val_accuracy: 0.9870\n",
      "Epoch 26/50\n",
      "178/178 [==============================] - 2s 11ms/step - loss: 0.0636 - accuracy: 0.9785 - val_loss: 0.0481 - val_accuracy: 0.9821\n",
      "Epoch 27/50\n",
      "178/178 [==============================] - 2s 12ms/step - loss: 0.0635 - accuracy: 0.9785 - val_loss: 0.0356 - val_accuracy: 0.9884\n",
      "Epoch 28/50\n",
      "178/178 [==============================] - 2s 13ms/step - loss: 0.0562 - accuracy: 0.9808 - val_loss: 0.0353 - val_accuracy: 0.9877\n",
      "Epoch 29/50\n",
      "178/178 [==============================] - 2s 13ms/step - loss: 0.0543 - accuracy: 0.9813 - val_loss: 0.0356 - val_accuracy: 0.9884\n",
      "Epoch 30/50\n",
      "178/178 [==============================] - 2s 13ms/step - loss: 0.0534 - accuracy: 0.9811 - val_loss: 0.0326 - val_accuracy: 0.9894\n",
      "Epoch 31/50\n",
      "178/178 [==============================] - 2s 13ms/step - loss: 0.0472 - accuracy: 0.9838 - val_loss: 0.0305 - val_accuracy: 0.9905\n",
      "Epoch 32/50\n",
      "178/178 [==============================] - 2s 13ms/step - loss: 0.0485 - accuracy: 0.9828 - val_loss: 0.0369 - val_accuracy: 0.9894\n",
      "Epoch 33/50\n",
      "178/178 [==============================] - 2s 13ms/step - loss: 0.0450 - accuracy: 0.9843 - val_loss: 0.0380 - val_accuracy: 0.9880\n",
      "Epoch 34/50\n",
      "178/178 [==============================] - ETA: 0s - loss: 0.0430 - accuracy: 0.9857Restoring model weights from the end of the best epoch: 31.\n",
      "178/178 [==============================] - 2s 12ms/step - loss: 0.0430 - accuracy: 0.9857 - val_loss: 0.0326 - val_accuracy: 0.9891\n",
      "Epoch 00034: early stopping\n"
     ]
    }
   ],
   "source": [
    "# Trainen van het CNN\n",
    "from tensorflow.keras.callbacks import EarlyStopping\n",
    "\n",
    "es = EarlyStopping(monitor='val_loss', mode='min', verbose=1, min_delta=0.001, patience=3, restore_best_weights=True)\n",
    "\n",
    "history = model.fit(X_train, y_train, batch_size=batch_size, epochs=epochs, validation_split=0.2, verbose=1, callbacks=[es])\n"
   ]
  },
  {
   "cell_type": "code",
   "execution_count": 16,
   "metadata": {},
   "outputs": [
    {
     "name": "stdout",
     "output_type": "stream",
     "text": [
      "              precision    recall  f1-score   support\n",
      "\n",
      "           0       0.99      1.00      0.99      1800\n",
      "           1       1.00      0.99      0.99      1752\n",
      "\n",
      "    accuracy                           0.99      3552\n",
      "   macro avg       0.99      0.99      0.99      3552\n",
      "weighted avg       0.99      0.99      0.99      3552\n",
      "\n",
      "[[1794    6]\n",
      " [  13 1739]]\n",
      "99.46509009009009\n"
     ]
    }
   ],
   "source": [
    "y_predicted = np.argmax(model.predict(X_test),axis=-1)\n",
    "\n",
    "print(classification_report(y_test, y_predicted))\n",
    "\n",
    "cf = confusion_matrix(y_test, y_predicted)\n",
    "\n",
    "print(cf)\n",
    "print(accuracy_score(y_test, y_predicted) * 100) "
   ]
  },
  {
   "cell_type": "code",
   "execution_count": null,
   "metadata": {},
   "outputs": [],
   "source": []
  }
 ],
 "metadata": {
  "interpreter": {
   "hash": "e356171e11f8c4ac0e22d01efaef5f40f9206ec5ff74487515b987ae4ee25eb9"
  },
  "kernelspec": {
   "display_name": "Python 3.9.4 64-bit ('rpvenv': venv)",
   "language": "python",
   "name": "python3"
  },
  "language_info": {
   "codemirror_mode": {
    "name": "ipython",
    "version": 3
   },
   "file_extension": ".py",
   "mimetype": "text/x-python",
   "name": "python",
   "nbconvert_exporter": "python",
   "pygments_lexer": "ipython3",
   "version": "3.9.4"
  },
  "orig_nbformat": 4
 },
 "nbformat": 4,
 "nbformat_minor": 2
}
